{
 "cells": [
  {
   "cell_type": "code",
   "execution_count": 2,
   "metadata": {},
   "outputs": [
    {
     "name": "stdout",
     "output_type": "stream",
     "text": [
      "['mzspec:PXD015899:CPTAC_OvC_JB5429_iTRAQ_18_4Apr12_Cougar_12-03-22:scan:08441:[iTRAQ4plex]-LLIYGGSTR/2', 'mzspec:PXD015899:CPTAC_OvC_JB5429_iTRAQ_18_4Apr12_Cougar_12-03-22:scan:08441:[iTRAQ4plex114]-LLIYGGSTR/2', 'mzspec:PXD019910:20180329_EMIF_tryp_s35_f03:scan:11092:[TMT6plex]-LLIYGGSTR/2', 'mzspec:PXD019910:20180329_EMIF_tryp_s44_f03:scan:11199:[TMT6plex]-LLIYGGSTR/2', 'mzspec:PXD006463:MS161140-B-20_161024053838:scan:18934:[TMT6plex]-LLIYGGSTR/2', 'mzspec:PXD019910:20180329_EMIF_tryp_s23_f03_20180622040828:scan:11088:[TMT6plex]-LLIYGGSTR/2', 'mzspec:PXD019910:20180329_EMIF_tryp_s16_f03:scan:10529:[TMT6plex]-LLIYGGSTR/2', 'mzspec:PXD019910:20180329_EMIF_tryp_s21_f03:scan:10390:[TMT6plex]-LLIYGGSTR/2', 'mzspec:PXD019910:20180329_EMIF_tryp_s15_f03:scan:10501:[TMT6plex]-LLIYGGSTR/2', 'mzspec:MSV000086793:22CPTAC_LUAD_P_BI_20180726_BD_f08:scan:26048:[TMT6plex]-LLIYGGSTR/2']\n"
     ]
    }
   ],
   "source": [
    "# Read the contents of all_usi.txt and split by lines\n",
    "with open('all_usi.txt', 'r') as file:\n",
    "    usis = file.readlines()\n",
    "\n",
    "# Strip newline characters from each line\n",
    "usis = [line.strip() for line in usis]\n",
    "\n",
    "# Display the lines\n",
    "print(usis[:10])  # Display only the first 10 lines"
   ]
  },
  {
   "cell_type": "code",
   "execution_count": 14,
   "metadata": {},
   "outputs": [
    {
     "name": "stdout",
     "output_type": "stream",
     "text": [
      "[iTRAQ4plex]: 20116 USIs\n",
      "[TMT6plex]: 50160 USIs\n",
      "No isobaric labeling: 181331 USIs\n",
      "[TMTpro]: 765 USIs\n",
      "[Dimethyl]: 3887 USIs\n",
      "[iTRAQ8plex]: 591 USIs\n"
     ]
    }
   ],
   "source": [
    "from collections import defaultdict\n",
    "\n",
    "# Define the labeling types and their corresponding keywords\n",
    "labeling_types = {\n",
    "    \"No isobaric labeling\": [],\n",
    "    \"[iTRAQ4plex]\": [\"[iTRAQ4plex]\", \"[iTRAQ4plex114]\"],\n",
    "    \"[iTRAQ8plex]\": [\"[iTRAQ8plex]\", \"[iTRAQ8plex:13C(6)15N(2)]\"],\n",
    "    \"[TMT6plex]\": [\"[TMT6plex]\"],\n",
    "    \"[TMTpro]\": [\"[TMTpro]\"],\n",
    "    \"[Dimethyl]\": [\"[Dimethyl]\", \"[Dimethyl:2H(6)13C(2)]\", \"[Dimethyl:2H(4)13C(2)]\", \"[Dimethyl:2H(4)]\"]\n",
    "}\n",
    "\n",
    "# Group USIs by labeling type\n",
    "grouped_usis = defaultdict(list)\n",
    "\n",
    "for usi in usis:\n",
    "    matched = False\n",
    "    for label, keywords in labeling_types.items():\n",
    "        if any(keyword in usi for keyword in keywords):\n",
    "            grouped_usis[label].append(usi)\n",
    "            matched = True\n",
    "            break\n",
    "    if not matched:\n",
    "        grouped_usis[\"No isobaric labeling\"].append(usi)\n",
    "\n",
    "# Display the counts for each group\n",
    "for label, group in grouped_usis.items():\n",
    "    print(f\"{label}: {len(group)} USIs\")\n",
    "\n",
    "    # Find USIs matched to multiple groups\n",
    "    usi_to_groups = defaultdict(list)\n",
    "\n",
    "    for label, usis_group in grouped_usis.items():\n",
    "        for usi in usis_group:\n",
    "            usi_to_groups[usi].append(label)\n",
    "\n",
    "# Print USIs matched to more than one group\n",
    "for usi, labels in usi_to_groups.items():\n",
    "    if len(set(labels)) > 1:\n",
    "        print(f\"USI: {usi} matched to groups: {labels}\")"
   ]
  },
  {
   "cell_type": "code",
   "execution_count": 15,
   "metadata": {},
   "outputs": [
    {
     "name": "stdout",
     "output_type": "stream",
     "text": [
      "{'[+46.03274]', '[+471.20776]', '[+454.18121]', '[Oxidation]', '[+1541.85014]', '[+1431.83104]', '[Glu->pyro-Glu]', '[Thiazolidine]', '[Methylthio]', '[Gln->pyro-Glu]', '[Deamidated:18O(1)]', '[+1555.95614]', '[Label:13C(6)]', '[+186.1165]', '[LRGG]', '[Dicarbamidomethyl]', '[+75.04729]', '[Phospho]', '[Pyro-carbamidomethyl]', '[Deamidated]', '[+46.0328]', '[+85.05549]', '[+141.1154]', '[Nethylmaleimide]', '[Carbamidomethyl]', '[+186.1127]', '[+141.11544]', '[DiLeu4plex117]', '[Xlink:BuUrBu[85]', '[Label:2H(4)]', '[Cysteinyl]', '[Propionamide]', '[+271.1736]', '[0.0233]', '[ADP-Ribosyl]', '[+271.1735]', '[Acetyl]', '[Label:13C(6)15N(2)]', '[Label:13C(6)15N(4)]', '[GG]', '[Label:13C(6)15N(1)]', '[Ammonia-loss]'}\n"
     ]
    }
   ],
   "source": [
    "import re\n",
    "\n",
    "# Extract USIs from \"No isobaric labeling\"\n",
    "no_isobaric_usis = grouped_usis[\"No isobaric labeling\"]\n",
    "\n",
    "# Find all modifications (text within brackets)\n",
    "modifications = set()\n",
    "for usi in no_isobaric_usis:\n",
    "    modifications.update(re.findall(r'\\[.*?\\]', usi))\n",
    "\n",
    "# Print the modifications\n",
    "print(modifications)"
   ]
  },
  {
   "cell_type": "markdown",
   "metadata": {},
   "source": [
    "generate a tsv that with '[isobaric group][modification] count' in a way that: for each group, for each usi in that group, if it has a modification(a bracket and is not a isobaric grouop),count the number of that modificaiton for that group. if the usi does not have mod, add the count to [isobaric group][None] count"
   ]
  },
  {
   "cell_type": "code",
   "execution_count": 31,
   "metadata": {},
   "outputs": [
    {
     "name": "stdout",
     "output_type": "stream",
     "text": [
      "Original USI count: 256850\n",
      "Processed USI count: 293525\n",
      "Counts match: False\n",
      "43600\n"
     ]
    }
   ],
   "source": [
    "from collections import defaultdict\n",
    "import csv\n",
    "\n",
    "# Initialize a dictionary to store counts for each group and modification\n",
    "modification_counts = defaultdict(lambda: defaultdict(int))\n",
    "\n",
    "# Iterate through each group and its USIs\n",
    "all_multiple_labeling_count = 0\n",
    "for group, usis_group in grouped_usis.items():\n",
    "    multiple_labeling_count = 0\n",
    "    for usi in usis_group:\n",
    "        # Extract modifications from the USI\n",
    "        modifications_in_usi = re.findall(r'\\[.*?\\]', usi)\n",
    "        non_isobaric_modifications = [\n",
    "            mod for mod in modifications_in_usi if mod not in labeling_types[group]\n",
    "        ]\n",
    "\n",
    "        # Check if the USI has multiple labels\n",
    "        if len(set(non_isobaric_modifications)) > 1:\n",
    "            multiple_labeling_count += len(set(modifications_in_usi))\n",
    "\n",
    "        # If no modifications are found, increment the count for [group][None]\n",
    "        if not non_isobaric_modifications:\n",
    "            modification_counts[group][\"[None]\"] += 1\n",
    "        else:\n",
    "            # Increment the count for each modification\n",
    "            for mod in non_isobaric_modifications:\n",
    "                modification_counts[group][mod] += 1\n",
    "    all_multiple_labeling_count += multiple_labeling_count\n",
    "\n",
    "# Write the counts to a TSV file\n",
    "with open(\"modifications_count.tsv\", \"w\", newline=\"\") as tsvfile:\n",
    "    writer = csv.writer(tsvfile, delimiter=\"\\t\")\n",
    "    writer.writerow([\"Group\", \"Modification\", \"Count\"])\n",
    "    for group, mods in modification_counts.items():\n",
    "        for mod, count in mods.items():\n",
    "            writer.writerow([group, mod, count])\n",
    "\n",
    "    # Calculate the total number of USIs processed\n",
    "    total_count = sum(sum(mods.values()) for mods in modification_counts.values())\n",
    "\n",
    "    # Add the total count to the TSV file\n",
    "    # writer.writerow([\"Total\", \"\", total_count])\n",
    "\n",
    "    # Compare the total count to the original count of USIs\n",
    "    print(f\"Original USI count: {len(usis)}\")\n",
    "    print(f\"Processed USI count: {total_count}\")\n",
    "    print(f\"Counts match: {len(usis) == total_count}\")\n",
    "\n",
    "print(all_multiple_labeling_count)"
   ]
  },
  {
   "cell_type": "markdown",
   "metadata": {},
   "source": [
    "for verify with TMTpro no modificaiton number"
   ]
  },
  {
   "cell_type": "code",
   "execution_count": 33,
   "metadata": {},
   "outputs": [
    {
     "name": "stdout",
     "output_type": "stream",
     "text": [
      "Number of USIs with [TMTpro] tag and no other modification tags: 593\n"
     ]
    }
   ],
   "source": [
    "# Count the number of USIs with [TMTpro] tag and no other modification tags\n",
    "tmtpro_no_modification_count = sum(\n",
    "    1 for usi in usis if '[TMTpro]' in usi and len([tag for tag in re.findall(r'\\[.*?\\]', usi) if tag != '[TMTpro]']) == 0\n",
    ")\n",
    "\n",
    "print(f\"Number of USIs with [TMTpro] tag and no other modification tags: {tmtpro_no_modification_count}\")"
   ]
  }
 ],
 "metadata": {
  "kernelspec": {
   "display_name": "Python 3",
   "language": "python",
   "name": "python3"
  },
  "language_info": {
   "codemirror_mode": {
    "name": "ipython",
    "version": 3
   },
   "file_extension": ".py",
   "mimetype": "text/x-python",
   "name": "python",
   "nbconvert_exporter": "python",
   "pygments_lexer": "ipython3",
   "version": "3.8.6"
  }
 },
 "nbformat": 4,
 "nbformat_minor": 2
}
